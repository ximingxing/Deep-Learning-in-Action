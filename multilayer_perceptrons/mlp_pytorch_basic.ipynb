{
 "cells": [
  {
   "cell_type": "markdown",
   "source": [
    "Author: Xi Ming.\n",
    "\n",
    "## Build a Multilayer Perceptron from Scratch based on PyTorch.\n",
    "\n",
    "PyTorch's automatic differentiation mechanism can help quickly implement multilayer perceptrons."
   ],
   "metadata": {
    "collapsed": false
   }
  },
  {
   "cell_type": "markdown",
   "source": [
    "### Import Packages."
   ],
   "metadata": {
    "collapsed": false
   }
  },
  {
   "cell_type": "code",
   "execution_count": 55,
   "outputs": [
    {
     "name": "stdout",
     "output_type": "stream",
     "text": [
      "pytorch version: 1.7.1+cu101 \n",
      "torchvision version:  0.8.2+cu101 \n",
      "numpy version: 1.18.2\n"
     ]
    }
   ],
   "source": [
    "import torch\n",
    "import torchvision\n",
    "import torch.nn as nn\n",
    "from torchvision import datasets,transforms\n",
    "from torch.utils.data import DataLoader\n",
    "\n",
    "import numpy as np\n",
    "\n",
    "print('pytorch version:',torch.__version__,'\\ntorchvision version: ',torchvision.__version__,'\\nnumpy version:' ,np.__version__)"
   ],
   "metadata": {
    "collapsed": false,
    "pycharm": {
     "name": "#%%\n"
    }
   }
  },
  {
   "cell_type": "markdown",
   "source": [
    "### Settings"
   ],
   "metadata": {
    "collapsed": false
   }
  },
  {
   "cell_type": "code",
   "execution_count": 56,
   "outputs": [],
   "source": [
    "# model runs on  GPU or CPU\n",
    "device = torch.device(\"cuda:0\" if torch.cuda.is_available() else \"cpu\")\n",
    "\n",
    "# Hyperparameters\n",
    "learning_rate = 1e-2\n",
    "momentum = 0.9\n",
    "num_epochs = 10\n",
    "batch_size = 128\n",
    "\n",
    "# Architecture\n",
    "num_features = 784\n",
    "num_hidden_1 = 400\n",
    "num_hidden_2 = 200\n",
    "num_classes = 10"
   ],
   "metadata": {
    "collapsed": false,
    "pycharm": {
     "name": "#%%\n"
    }
   }
  },
  {
   "cell_type": "markdown",
   "source": [
    "### Dataset: MNIST"
   ],
   "metadata": {
    "collapsed": false
   }
  },
  {
   "cell_type": "code",
   "execution_count": 57,
   "outputs": [
    {
     "name": "stdout",
     "output_type": "stream",
     "text": [
      "Image batch dimensions: torch.Size([128, 1, 28, 28])\n",
      "Image label dimensions: torch.Size([128])\n"
     ]
    }
   ],
   "source": [
    "train_dataset = datasets.MNIST(root='data', \n",
    "                               train=True, \n",
    "                               transform=transforms.Compose([\n",
    "                                    transforms.ToTensor(),\n",
    "                                    transforms.Normalize((0.1307,), (0.3081,))]),\n",
    "                               download=True)\n",
    "\n",
    "test_dataset = datasets.MNIST(root='data', \n",
    "                              train=False, \n",
    "                              transform=transforms.Compose([\n",
    "                                    transforms.ToTensor(),\n",
    "                                    transforms.Normalize((0.1307,), (0.3081,))]))\n",
    "\n",
    "\n",
    "train_loader = DataLoader(dataset=train_dataset, \n",
    "                          batch_size=batch_size, shuffle=True)\n",
    "\n",
    "test_loader = DataLoader(dataset=test_dataset, \n",
    "                         batch_size=batch_size, shuffle=False)\n",
    "\n",
    "# Checking the dataset\n",
    "for images, labels in train_loader:  \n",
    "    print('Image batch dimensions:', images.shape)\n",
    "    print('Image label dimensions:', labels.shape)\n",
    "    break\n",
    "    "
   ],
   "metadata": {
    "collapsed": false,
    "pycharm": {
     "name": "#%%\n"
    }
   }
  },
  {
   "cell_type": "markdown",
   "source": [
    "### Define model"
   ],
   "metadata": {
    "collapsed": false,
    "pycharm": {
     "name": "#%% md\n"
    }
   }
  },
  {
   "cell_type": "code",
   "execution_count": 58,
   "outputs": [],
   "source": [
    "class MultilayerPerceptron(nn.Module):\n",
    "\n",
    "    def __init__(self, num_features, num_classes):\n",
    "        super(MultilayerPerceptron, self).__init__()\n",
    "        \n",
    "        self.model = nn.Sequential(\n",
    "            nn.Linear(num_features, num_hidden_1),\n",
    "            nn.Sigmoid(),\n",
    "            nn.Linear(num_hidden_1, num_hidden_2),\n",
    "            nn.Sigmoid(),\n",
    "            nn.Linear(num_hidden_2, num_classes)\n",
    "        )\n",
    "\n",
    "    def forward(self, x):\n",
    "        x = self.model(x)\n",
    "        return x"
   ],
   "metadata": {
    "collapsed": false,
    "pycharm": {
     "name": "#%%%\n"
    }
   }
  },
  {
   "cell_type": "markdown",
   "source": [
    "### Init model, define optimizer and loss function"
   ],
   "metadata": {
    "collapsed": false,
    "pycharm": {
     "name": "#%% md\n"
    }
   }
  },
  {
   "cell_type": "code",
   "execution_count": 59,
   "outputs": [],
   "source": [
    "model = MultilayerPerceptron(num_features=num_features,\n",
    "                             num_classes=num_classes)\n",
    "model = model.to(device)\n",
    "\n",
    "optimizer = torch.optim.SGD(model.parameters(), lr=learning_rate, momentum=momentum)\n",
    "\n",
    "criterion = nn.CrossEntropyLoss()"
   ],
   "metadata": {
    "collapsed": false,
    "pycharm": {
     "name": "#%% optimizer\n"
    }
   }
  },
  {
   "cell_type": "markdown",
   "source": [
    "### Training model"
   ],
   "metadata": {
    "collapsed": false,
    "pycharm": {
     "name": "#%% md\n"
    }
   }
  },
  {
   "cell_type": "code",
   "execution_count": 60,
   "outputs": [
    {
     "name": "stdout",
     "output_type": "stream",
     "text": [
      "Train Epoch: 0 [0/60000 (0%)]\tLoss: 2.321454\n",
      "Train Epoch: 0 [12800/60000 (21%)]\tLoss: 2.224704\n",
      "Train Epoch: 0 [25600/60000 (43%)]\tLoss: 1.826435\n",
      "Train Epoch: 0 [38400/60000 (64%)]\tLoss: 1.124504\n",
      "Train Epoch: 0 [51200/60000 (85%)]\tLoss: 0.841719\n",
      "\n",
      "Test set: Average loss: 0.0053, Accuracy: 8232/10000 (82%)\n",
      "\n",
      "Train Epoch: 1 [0/60000 (0%)]\tLoss: 0.670159\n",
      "Train Epoch: 1 [12800/60000 (21%)]\tLoss: 0.455997\n",
      "Train Epoch: 1 [25600/60000 (43%)]\tLoss: 0.508148\n",
      "Train Epoch: 1 [38400/60000 (64%)]\tLoss: 0.435971\n",
      "Train Epoch: 1 [51200/60000 (85%)]\tLoss: 0.537225\n",
      "\n",
      "Test set: Average loss: 0.0030, Accuracy: 8909/10000 (89%)\n",
      "\n",
      "Train Epoch: 2 [0/60000 (0%)]\tLoss: 0.446308\n",
      "Train Epoch: 2 [12800/60000 (21%)]\tLoss: 0.325904\n",
      "Train Epoch: 2 [25600/60000 (43%)]\tLoss: 0.334509\n",
      "Train Epoch: 2 [38400/60000 (64%)]\tLoss: 0.268637\n",
      "Train Epoch: 2 [51200/60000 (85%)]\tLoss: 0.335764\n",
      "\n",
      "Test set: Average loss: 0.0025, Accuracy: 9083/10000 (91%)\n",
      "\n",
      "Train Epoch: 3 [0/60000 (0%)]\tLoss: 0.275971\n",
      "Train Epoch: 3 [12800/60000 (21%)]\tLoss: 0.428632\n",
      "Train Epoch: 3 [25600/60000 (43%)]\tLoss: 0.270322\n",
      "Train Epoch: 3 [38400/60000 (64%)]\tLoss: 0.231103\n",
      "Train Epoch: 3 [51200/60000 (85%)]\tLoss: 0.235235\n",
      "\n",
      "Test set: Average loss: 0.0022, Accuracy: 9179/10000 (92%)\n",
      "\n",
      "Train Epoch: 4 [0/60000 (0%)]\tLoss: 0.423989\n",
      "Train Epoch: 4 [12800/60000 (21%)]\tLoss: 0.320259\n",
      "Train Epoch: 4 [25600/60000 (43%)]\tLoss: 0.301397\n",
      "Train Epoch: 4 [38400/60000 (64%)]\tLoss: 0.392316\n",
      "Train Epoch: 4 [51200/60000 (85%)]\tLoss: 0.354596\n",
      "\n",
      "Test set: Average loss: 0.0020, Accuracy: 9258/10000 (93%)\n",
      "\n",
      "Train Epoch: 5 [0/60000 (0%)]\tLoss: 0.221529\n",
      "Train Epoch: 5 [12800/60000 (21%)]\tLoss: 0.187045\n",
      "Train Epoch: 5 [25600/60000 (43%)]\tLoss: 0.152846\n",
      "Train Epoch: 5 [38400/60000 (64%)]\tLoss: 0.288960\n",
      "Train Epoch: 5 [51200/60000 (85%)]\tLoss: 0.191972\n",
      "\n",
      "Test set: Average loss: 0.0019, Accuracy: 9322/10000 (93%)\n",
      "\n",
      "Train Epoch: 6 [0/60000 (0%)]\tLoss: 0.173000\n",
      "Train Epoch: 6 [12800/60000 (21%)]\tLoss: 0.392608\n",
      "Train Epoch: 6 [25600/60000 (43%)]\tLoss: 0.281637\n",
      "Train Epoch: 6 [38400/60000 (64%)]\tLoss: 0.210830\n",
      "Train Epoch: 6 [51200/60000 (85%)]\tLoss: 0.221315\n",
      "\n",
      "Test set: Average loss: 0.0017, Accuracy: 9358/10000 (94%)\n",
      "\n",
      "Train Epoch: 7 [0/60000 (0%)]\tLoss: 0.231126\n",
      "Train Epoch: 7 [12800/60000 (21%)]\tLoss: 0.294496\n",
      "Train Epoch: 7 [25600/60000 (43%)]\tLoss: 0.140917\n",
      "Train Epoch: 7 [38400/60000 (64%)]\tLoss: 0.216424\n",
      "Train Epoch: 7 [51200/60000 (85%)]\tLoss: 0.200036\n",
      "\n",
      "Test set: Average loss: 0.0016, Accuracy: 9427/10000 (94%)\n",
      "\n",
      "Train Epoch: 8 [0/60000 (0%)]\tLoss: 0.207002\n",
      "Train Epoch: 8 [12800/60000 (21%)]\tLoss: 0.198266\n",
      "Train Epoch: 8 [25600/60000 (43%)]\tLoss: 0.248742\n",
      "Train Epoch: 8 [38400/60000 (64%)]\tLoss: 0.226041\n",
      "Train Epoch: 8 [51200/60000 (85%)]\tLoss: 0.263913\n",
      "\n",
      "Test set: Average loss: 0.0014, Accuracy: 9463/10000 (95%)\n",
      "\n",
      "Train Epoch: 9 [0/60000 (0%)]\tLoss: 0.169967\n",
      "Train Epoch: 9 [12800/60000 (21%)]\tLoss: 0.198549\n",
      "Train Epoch: 9 [25600/60000 (43%)]\tLoss: 0.164222\n",
      "Train Epoch: 9 [38400/60000 (64%)]\tLoss: 0.175347\n",
      "Train Epoch: 9 [51200/60000 (85%)]\tLoss: 0.148149\n",
      "\n",
      "Test set: Average loss: 0.0013, Accuracy: 9492/10000 (95%)\n",
      "\n"
     ]
    }
   ],
   "source": [
    "train_loss_list = []\n",
    "test_acc_list = []\n",
    "\n",
    "for epoch in range(num_epochs):\n",
    "\n",
    "    model.train()\n",
    "    for batch_idx, (data, target) in enumerate(train_loader):\n",
    "        data, target = data.to(device), target.to(device)\n",
    "        data = data.view(-1, 28*28)\n",
    "        \n",
    "        # forward\n",
    "        logits = model(data)\n",
    "        loss = criterion(logits, target)\n",
    "\n",
    "        # backprop\n",
    "        optimizer.zero_grad()\n",
    "        loss.backward()\n",
    "        optimizer.step()\n",
    "\n",
    "        if batch_idx  % 100 == 0:\n",
    "            print('Train Epoch: {} [{}/{} ({:.0f}%)]\\tLoss: {:.6f}'.format(\n",
    "                epoch, batch_idx * len(data), len(train_loader.dataset),\n",
    "                       100. * batch_idx / len(train_loader), loss.data.item()))\n",
    "\n",
    "    train_loss_list.append(loss.data.item())\n",
    "    \n",
    "    test_loss = 0\n",
    "    correct = 0 \n",
    "    model.eval()\n",
    "    with torch.no_grad():\n",
    "        # test\n",
    "        total_correct = 0\n",
    "        total_num = 0\n",
    "        for data, target in test_loader:\n",
    "            data, target = data.to(device), target.to(device)\n",
    "            data = data.view(-1, 28*28)\n",
    "\n",
    "            logits = model(data)\n",
    "            test_loss += criterion(logits, target).item()\n",
    "\n",
    "            pred = logits.data.max(1)[1]\n",
    "            correct += pred.eq(target.data).sum()\n",
    "\n",
    "        test_loss /= len(test_loader.dataset)\n",
    "        test_acc = 100. * correct / len(test_loader.dataset)\n",
    "        print('\\nTest set: Average loss: {:.4f}, Accuracy: {}/{} ({:.0f}%)\\n'.format(\n",
    "            test_loss, correct, len(test_loader.dataset), test_acc))\n",
    "\n",
    "        test_acc_list.append(test_acc)"
   ],
   "metadata": {
    "collapsed": false,
    "pycharm": {
     "name": "#%% Train\n"
    }
   }
  },
  {
   "cell_type": "markdown",
   "source": [
    "### Plot Training index curve"
   ],
   "metadata": {
    "collapsed": false
   }
  },
  {
   "cell_type": "code",
   "execution_count": 61,
   "outputs": [
    {
     "data": {
      "text/plain": "<Figure size 432x288 with 1 Axes>",
      "image/png": "[encoded data removed]"
     },
     "metadata": {
      "needs_background": "light"
     },
     "output_type": "display_data"
    },
    {
     "data": {
      "text/plain": "<Figure size 432x288 with 1 Axes>",
      "image/png": "[encoded data removed]"
     },
     "metadata": {
      "needs_background": "light"
     },
     "output_type": "display_data"
    }
   ],
   "source": [
    "import matplotlib\n",
    "import matplotlib.pyplot as plt\n",
    "\n",
    "x = np.arange(0, num_epochs)\n",
    "\n",
    "plt.title(\"Training index curve\")\n",
    "plt.plot(x, train_loss_list, label='train loss')\n",
    "plt.xlabel('epochs')\n",
    "plt.ylabel('train loss')\n",
    "plt.show()\n",
    "\n",
    "plt.title(\"Training index curve\")\n",
    "plt.plot(x, test_acc_list, label='test accuracy')\n",
    "plt.xlabel('epochs')\n",
    "plt.ylabel('train acc')\n",
    "\n",
    "plt.show()\n"
   ],
   "metadata": {
    "collapsed": false,
    "pycharm": {
     "name": "#%%\n"
    }
   }
  },
  {
   "cell_type": "markdown",
   "source": [
    "### Visual Inspection"
   ],
   "metadata": {
    "collapsed": false,
    "pycharm": {
     "name": "#%% md\n"
    }
   }
  },
  {
   "cell_type": "code",
   "execution_count": 62,
   "outputs": [
    {
     "data": {
      "text/plain": "<Figure size 432x288 with 4 Axes>",
      "image/png": "[encoded data removed]"
     },
     "metadata": {
      "needs_background": "light"
     },
     "output_type": "display_data"
    },
    {
     "name": "stdout",
     "output_type": "stream",
     "text": [
      "Predicted labels tensor([1, 2, 3, 4], device='cuda:0')\n"
     ]
    }
   ],
   "source": [
    "for features, targets in test_loader:\n",
    "    break\n",
    "\n",
    "fig, ax = plt.subplots(1, 4)\n",
    "data = data.to('cpu')\n",
    "for i in range(4):\n",
    "    ax[i].imshow(data[i].view(28, 28), cmap=matplotlib.cm.binary)\n",
    "plt.show()\n",
    "\n",
    "data = data.to(device)\n",
    "predictions = model.forward(data[:4].view(-1, 28*28))\n",
    "predictions = torch.argmax(predictions, dim=1)\n",
    "print('Predicted labels', predictions)"
   ],
   "metadata": {
    "collapsed": false,
    "pycharm": {
     "name": "#%%\n"
    }
   }
  }
 ],
 "metadata": {
  "kernelspec": {
   "display_name": "Python 3",
   "language": "python",
   "name": "python3"
  },
  "language_info": {
   "codemirror_mode": {
    "name": "ipython",
    "version": 2
   },
   "file_extension": ".py",
   "mimetype": "text/x-python",
   "name": "python",
   "nbconvert_exporter": "python",
   "pygments_lexer": "ipython2",
   "version": "2.7.6"
  }
 },
 "nbformat": 4,
 "nbformat_minor": 0
}
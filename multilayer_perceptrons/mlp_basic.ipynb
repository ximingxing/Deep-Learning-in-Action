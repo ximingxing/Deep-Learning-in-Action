{
 "cells": [
  {
   "cell_type": "markdown",
   "source": [
    "### Multilayer Perceptron"
   ],
   "metadata": {
    "collapsed": false
   }
  },
  {
   "cell_type": "code",
   "execution_count": 7,
   "outputs": [
    {
     "name": "stdout",
     "text": [
      "pytorch version: 1.5.0 \ntorchvision version:  0.6.0.dev20200319 \nnumpy version: 1.18.2\n"
     ],
     "output_type": "stream"
    }
   ],
   "source": [
    "import torch\n",
    "import torchvision\n",
    "import torch.nn as nn\n",
    "from torchvision import datasets,transforms\n",
    "from torch.utils.data import DataLoader\n",
    "\n",
    "import numpy as np\n",
    "print('pytorch version:',torch.__version__,'\\ntorchvision version: ',torchvision.__version__,'\\nnumpy version:' ,np.__version__)"
   ],
   "metadata": {
    "collapsed": false,
    "pycharm": {
     "name": "#%%\n",
     "is_executing": false
    }
   }
  },
  {
   "cell_type": "markdown",
   "source": [
    "#### Settings"
   ],
   "metadata": {
    "collapsed": false
   }
  },
  {
   "cell_type": "code",
   "execution_count": 8,
   "outputs": [],
   "source": [
    "# model runs on  GPU or CPU\n",
    "device = torch.device(\"cuda:0\" if torch.cuda.is_available() else \"cpu\")\n",
    "\n",
    "# Hyperparameters\n",
    "random_seed = 21\n",
    "learning_rate = 1e-3 \n",
    "num_epochs = 10\n",
    "batch_size = 64\n",
    "\n",
    "torch.manual_seed(random_seed)\n",
    "\n",
    "# Architecture\n",
    "num_features = 784\n",
    "num_hidden = 200\n",
    "num_classes = 10"
   ],
   "metadata": {
    "collapsed": false,
    "pycharm": {
     "name": "#%%\n",
     "is_executing": false
    }
   }
  },
  {
   "cell_type": "markdown",
   "source": [
    "#### Dataset: MNIST"
   ],
   "metadata": {
    "collapsed": false
   }
  },
  {
   "cell_type": "code",
   "execution_count": 9,
   "outputs": [
    {
     "name": "stdout",
     "text": [
      "Image batch dimensions: torch.Size([64, 1, 28, 28])\nImage label dimensions: torch.Size([64])\n"
     ],
     "output_type": "stream"
    }
   ],
   "source": [
    "train_dataset = datasets.MNIST(root='data', \n",
    "                               train=True, \n",
    "                               transform=transforms.Compose([\n",
    "                                    transforms.ToTensor(),\n",
    "                                    transforms.Normalize((0.1307,), (0.3081,))\n",
    "                                ]),\n",
    "                               download=True)\n",
    "\n",
    "test_dataset = datasets.MNIST(root='data', \n",
    "                              train=False, \n",
    "                              transform=transforms.Compose([\n",
    "                                    transforms.ToTensor(),\n",
    "                                    transforms.Normalize((0.1307,), (0.3081,))\n",
    "                                ]))\n",
    "\n",
    "\n",
    "train_loader = DataLoader(dataset=train_dataset, \n",
    "                          batch_size=batch_size, \n",
    "                          shuffle=True)\n",
    "\n",
    "test_loader = DataLoader(dataset=test_dataset, \n",
    "                         batch_size=batch_size, \n",
    "                         shuffle=False)\n",
    "\n",
    "# Checking the dataset\n",
    "for images, labels in train_loader:  \n",
    "    print('Image batch dimensions:', images.shape)\n",
    "    print('Image label dimensions:', labels.shape)\n",
    "    break\n",
    "    "
   ],
   "metadata": {
    "collapsed": false,
    "pycharm": {
     "name": "#%%\n",
     "is_executing": false
    }
   }
  },
  {
   "cell_type": "markdown",
   "source": [
    "#### Define model"
   ],
   "metadata": {
    "collapsed": false,
    "pycharm": {
     "name": "#%% md\n"
    }
   }
  },
  {
   "cell_type": "code",
   "execution_count": 10,
   "outputs": [],
   "source": [
    "class MultilayerPerceptron(nn.Module):\n",
    "\n",
    "    def __init__(self, num_features, num_classes):\n",
    "        super(MultilayerPerceptron, self).__init__()\n",
    "        \n",
    "        self.model = nn.Sequential(\n",
    "            nn.Linear(num_features, num_hidden),\n",
    "            nn.Linear(num_hidden, num_hidden),\n",
    "            nn.Linear(num_hidden, num_classes)\n",
    "        )\n",
    "\n",
    "    def forward(self, x):\n",
    "        x = self.model(x)\n",
    "\n",
    "        return x"
   ],
   "metadata": {
    "collapsed": false,
    "pycharm": {
     "name": "#%%%\n",
     "is_executing": false
    }
   }
  },
  {
   "cell_type": "markdown",
   "source": [
    "#### Init model, define optimizer and loss function"
   ],
   "metadata": {
    "collapsed": false,
    "pycharm": {
     "name": "#%% md\n"
    }
   }
  },
  {
   "cell_type": "code",
   "execution_count": 11,
   "outputs": [],
   "source": [
    "model = MultilayerPerceptron(num_features=num_features,\n",
    "                             num_classes=num_classes)\n",
    "model = model.to(device)\n",
    "\n",
    "optimizer = torch.optim.SGD(model.parameters(), lr=learning_rate)\n",
    "criteon = nn.CrossEntropyLoss().to(device)"
   ],
   "metadata": {
    "collapsed": false,
    "pycharm": {
     "name": "#%% optimizer\n",
     "is_executing": false
    }
   }
  },
  {
   "cell_type": "markdown",
   "source": [
    "#### Training model"
   ],
   "metadata": {
    "collapsed": false,
    "pycharm": {
     "name": "#%% md\n"
    }
   }
  },
  {
   "cell_type": "code",
   "execution_count": 12,
   "outputs": [
    {
     "name": "stdout",
     "text": [
      "Train Epoch: 0 [0/60000 (0%)]\tLoss: 2.278663\n",
      "Train Epoch: 0 [6400/60000 (11%)]\tLoss: 2.095090\n",
      "Train Epoch: 0 [12800/60000 (21%)]\tLoss: 1.861798\n",
      "Train Epoch: 0 [19200/60000 (32%)]\tLoss: 1.728410\n",
      "Train Epoch: 0 [25600/60000 (43%)]\tLoss: 1.576093\n",
      "Train Epoch: 0 [32000/60000 (53%)]\tLoss: 1.514901\n",
      "Train Epoch: 0 [38400/60000 (64%)]\tLoss: 1.284239\n",
      "Train Epoch: 0 [44800/60000 (75%)]\tLoss: 1.185161\n",
      "Train Epoch: 0 [51200/60000 (85%)]\tLoss: 1.156796\n",
      "Train Epoch: 0 [57600/60000 (96%)]\tLoss: 1.101600\n",
      "\nTest set: Average loss: 0.0155, Accuracy: 8043/10000 (80%)\n\nTrain Epoch: 1 [0/60000 (0%)]\tLoss: 1.028768\n",
      "Train Epoch: 1 [6400/60000 (11%)]\tLoss: 0.948873\n",
      "Train Epoch: 1 [12800/60000 (21%)]\tLoss: 1.017708\n",
      "Train Epoch: 1 [19200/60000 (32%)]\tLoss: 0.793532\n",
      "Train Epoch: 1 [25600/60000 (43%)]\tLoss: 0.895121\n",
      "Train Epoch: 1 [32000/60000 (53%)]\tLoss: 0.670167\n",
      "Train Epoch: 1 [38400/60000 (64%)]\tLoss: 0.680979\n",
      "Train Epoch: 1 [44800/60000 (75%)]\tLoss: 0.617230\n",
      "Train Epoch: 1 [51200/60000 (85%)]\tLoss: 0.672858\n",
      "Train Epoch: 1 [57600/60000 (96%)]\tLoss: 0.646568\n",
      "\nTest set: Average loss: 0.0096, Accuracy: 8536/10000 (85%)\n\nTrain Epoch: 2 [0/60000 (0%)]\tLoss: 0.727207\n",
      "Train Epoch: 2 [6400/60000 (11%)]\tLoss: 0.531860\n",
      "Train Epoch: 2 [12800/60000 (21%)]\tLoss: 0.643052\n",
      "Train Epoch: 2 [19200/60000 (32%)]\tLoss: 0.580825\n",
      "Train Epoch: 2 [25600/60000 (43%)]\tLoss: 0.566141\n",
      "Train Epoch: 2 [32000/60000 (53%)]\tLoss: 0.427950\n",
      "Train Epoch: 2 [38400/60000 (64%)]\tLoss: 0.517347\n",
      "Train Epoch: 2 [44800/60000 (75%)]\tLoss: 0.438604\n",
      "Train Epoch: 2 [51200/60000 (85%)]\tLoss: 0.463878\n",
      "Train Epoch: 2 [57600/60000 (96%)]\tLoss: 0.563892\n",
      "\nTest set: Average loss: 0.0077, Accuracy: 8738/10000 (87%)\n\nTrain Epoch: 3 [0/60000 (0%)]\tLoss: 0.405489\n",
      "Train Epoch: 3 [6400/60000 (11%)]\tLoss: 0.409865\n",
      "Train Epoch: 3 [12800/60000 (21%)]\tLoss: 0.476174\n",
      "Train Epoch: 3 [19200/60000 (32%)]\tLoss: 0.537566\n",
      "Train Epoch: 3 [25600/60000 (43%)]\tLoss: 0.338478\n",
      "Train Epoch: 3 [32000/60000 (53%)]\tLoss: 0.367760\n",
      "Train Epoch: 3 [38400/60000 (64%)]\tLoss: 0.553578\n",
      "Train Epoch: 3 [44800/60000 (75%)]\tLoss: 0.346912\n",
      "Train Epoch: 3 [51200/60000 (85%)]\tLoss: 0.478394\n",
      "Train Epoch: 3 [57600/60000 (96%)]\tLoss: 0.585579\n",
      "\nTest set: Average loss: 0.0067, Accuracy: 8837/10000 (88%)\n\nTrain Epoch: 4 [0/60000 (0%)]\tLoss: 0.393681\n",
      "Train Epoch: 4 [6400/60000 (11%)]\tLoss: 0.467533\n",
      "Train Epoch: 4 [12800/60000 (21%)]\tLoss: 0.689955\n",
      "Train Epoch: 4 [19200/60000 (32%)]\tLoss: 0.389335\n",
      "Train Epoch: 4 [25600/60000 (43%)]\tLoss: 0.472213\n",
      "Train Epoch: 4 [32000/60000 (53%)]\tLoss: 0.401424\n",
      "Train Epoch: 4 [38400/60000 (64%)]\tLoss: 0.368231\n",
      "Train Epoch: 4 [44800/60000 (75%)]\tLoss: 0.457411\n",
      "Train Epoch: 4 [51200/60000 (85%)]\tLoss: 0.455893\n",
      "Train Epoch: 4 [57600/60000 (96%)]\tLoss: 0.352576\n",
      "\nTest set: Average loss: 0.0062, Accuracy: 8902/10000 (89%)\n\nTrain Epoch: 5 [0/60000 (0%)]\tLoss: 0.326560\n",
      "Train Epoch: 5 [6400/60000 (11%)]\tLoss: 0.372855\n",
      "Train Epoch: 5 [12800/60000 (21%)]\tLoss: 0.386300\n",
      "Train Epoch: 5 [19200/60000 (32%)]\tLoss: 0.505785\n",
      "Train Epoch: 5 [25600/60000 (43%)]\tLoss: 0.321375\n",
      "Train Epoch: 5 [32000/60000 (53%)]\tLoss: 0.335484\n",
      "Train Epoch: 5 [38400/60000 (64%)]\tLoss: 0.304973\n",
      "Train Epoch: 5 [44800/60000 (75%)]\tLoss: 0.371385\n",
      "Train Epoch: 5 [51200/60000 (85%)]\tLoss: 0.341862\n",
      "Train Epoch: 5 [57600/60000 (96%)]\tLoss: 0.381428\n",
      "\nTest set: Average loss: 0.0059, Accuracy: 8957/10000 (90%)\n\nTrain Epoch: 6 [0/60000 (0%)]\tLoss: 0.196347\n",
      "Train Epoch: 6 [6400/60000 (11%)]\tLoss: 0.486855\n",
      "Train Epoch: 6 [12800/60000 (21%)]\tLoss: 0.561150\n",
      "Train Epoch: 6 [19200/60000 (32%)]\tLoss: 0.360288\n",
      "Train Epoch: 6 [25600/60000 (43%)]\tLoss: 0.221039\n",
      "Train Epoch: 6 [32000/60000 (53%)]\tLoss: 0.541324\n",
      "Train Epoch: 6 [38400/60000 (64%)]\tLoss: 0.299989\n",
      "Train Epoch: 6 [44800/60000 (75%)]\tLoss: 0.334916\n",
      "Train Epoch: 6 [51200/60000 (85%)]\tLoss: 0.442520\n",
      "Train Epoch: 6 [57600/60000 (96%)]\tLoss: 0.448789\n",
      "\nTest set: Average loss: 0.0056, Accuracy: 8986/10000 (90%)\n\nTrain Epoch: 7 [0/60000 (0%)]\tLoss: 0.249084\n",
      "Train Epoch: 7 [6400/60000 (11%)]\tLoss: 0.407776\n",
      "Train Epoch: 7 [12800/60000 (21%)]\tLoss: 0.280046\n",
      "Train Epoch: 7 [19200/60000 (32%)]\tLoss: 0.176005\n",
      "Train Epoch: 7 [25600/60000 (43%)]\tLoss: 0.140811\n",
      "Train Epoch: 7 [32000/60000 (53%)]\tLoss: 0.359179\n",
      "Train Epoch: 7 [38400/60000 (64%)]\tLoss: 0.311206\n",
      "Train Epoch: 7 [44800/60000 (75%)]\tLoss: 0.327693\n",
      "Train Epoch: 7 [51200/60000 (85%)]\tLoss: 0.518404\n",
      "Train Epoch: 7 [57600/60000 (96%)]\tLoss: 0.209658\n",
      "\nTest set: Average loss: 0.0054, Accuracy: 9008/10000 (90%)\n\nTrain Epoch: 8 [0/60000 (0%)]\tLoss: 0.366943\n",
      "Train Epoch: 8 [6400/60000 (11%)]\tLoss: 0.282030\n",
      "Train Epoch: 8 [12800/60000 (21%)]\tLoss: 0.307654\n",
      "Train Epoch: 8 [19200/60000 (32%)]\tLoss: 0.467538\n",
      "Train Epoch: 8 [25600/60000 (43%)]\tLoss: 0.404696\n",
      "Train Epoch: 8 [32000/60000 (53%)]\tLoss: 0.467759\n",
      "Train Epoch: 8 [38400/60000 (64%)]\tLoss: 0.255858\n",
      "Train Epoch: 8 [44800/60000 (75%)]\tLoss: 0.378041\n",
      "Train Epoch: 8 [51200/60000 (85%)]\tLoss: 0.558156\n",
      "Train Epoch: 8 [57600/60000 (96%)]\tLoss: 0.206925\n",
      "\nTest set: Average loss: 0.0053, Accuracy: 9035/10000 (90%)\n\nTrain Epoch: 9 [0/60000 (0%)]\tLoss: 0.433805\n",
      "Train Epoch: 9 [6400/60000 (11%)]\tLoss: 0.323704\n",
      "Train Epoch: 9 [12800/60000 (21%)]\tLoss: 0.310062\n",
      "Train Epoch: 9 [19200/60000 (32%)]\tLoss: 0.346413\n",
      "Train Epoch: 9 [25600/60000 (43%)]\tLoss: 0.309665\n",
      "Train Epoch: 9 [32000/60000 (53%)]\tLoss: 0.317072\n",
      "Train Epoch: 9 [38400/60000 (64%)]\tLoss: 0.467518\n",
      "Train Epoch: 9 [44800/60000 (75%)]\tLoss: 0.438666\n",
      "Train Epoch: 9 [51200/60000 (85%)]\tLoss: 0.306689\n",
      "Train Epoch: 9 [57600/60000 (96%)]\tLoss: 0.464189\n",
      "\nTest set: Average loss: 0.0052, Accuracy: 9055/10000 (91%)\n\n"
     ],
     "output_type": "stream"
    }
   ],
   "source": [
    "for epoch in range(num_epochs):\n",
    "\n",
    "    model.train()\n",
    "    for batch_idx, (data, target) in enumerate(train_loader):\n",
    "        data, target = data.to(device), target.to(device)\n",
    "        data = data.view(-1, 28*28)\n",
    "        \n",
    "        # forward\n",
    "        logits = model(data)\n",
    "        loss = criteon(logits, target)\n",
    "\n",
    "        # backprop\n",
    "        optimizer.zero_grad()\n",
    "        loss.backward()\n",
    "        optimizer.step()\n",
    "\n",
    "        if batch_idx % 100 == 0:\n",
    "            print('Train Epoch: {} [{}/{} ({:.0f}%)]\\tLoss: {:.6f}'.format(\n",
    "                epoch, batch_idx * len(data), len(train_loader.dataset),\n",
    "                       100. * batch_idx / len(train_loader), loss.item()))\n",
    "    \n",
    "    test_loss = 0\n",
    "    correct = 0 \n",
    "    model.eval()\n",
    "    with torch.no_grad():\n",
    "        # test\n",
    "        total_correct = 0\n",
    "        total_num = 0\n",
    "        for data, target in test_loader:\n",
    "            data, target = data.to(device), target.to(device)\n",
    "            data = data.view(-1, 28*28)\n",
    "\n",
    "            logits = model(data)\n",
    "            test_loss += criteon(logits, target).item()\n",
    "\n",
    "            pred = logits.data.max(1)[1]\n",
    "            correct += pred.eq(target.data).sum()\n",
    "\n",
    "        test_loss /= len(test_loader.dataset)\n",
    "        print('\\nTest set: Average loss: {:.4f}, Accuracy: {}/{} ({:.0f}%)\\n'.format(\n",
    "            test_loss, correct, len(test_loader.dataset), 100. * correct / len(test_loader.dataset)))"
   ],
   "metadata": {
    "collapsed": false,
    "pycharm": {
     "name": "#%% Train\n",
     "is_executing": false
    }
   }
  }
 ],
 "metadata": {
  "kernelspec": {
   "display_name": "Python 3",
   "language": "python",
   "name": "python3"
  },
  "language_info": {
   "codemirror_mode": {
    "name": "ipython",
    "version": 2
   },
   "file_extension": ".py",
   "mimetype": "text/x-python",
   "name": "python",
   "nbconvert_exporter": "python",
   "pygments_lexer": "ipython2",
   "version": "2.7.6"
  },
  "pycharm": {
   "stem_cell": {
    "cell_type": "raw",
    "source": [],
    "metadata": {
     "collapsed": false
    }
   }
  }
 },
 "nbformat": 4,
 "nbformat_minor": 0
}
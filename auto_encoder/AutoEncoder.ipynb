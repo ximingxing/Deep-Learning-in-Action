{
 "cells": [
  {
   "cell_type": "markdown",
   "source": [
    "## Reconstruct MNIST with AutoEncoder \n"
   ],
   "metadata": {
    "collapsed": false,
    "pycharm": {
     "name": "#%% md\n"
    }
   }
  },
  {
   "cell_type": "markdown",
   "source": [
    "### Import Packages"
   ],
   "metadata": {
    "collapsed": false,
    "pycharm": {
     "name": "#%% md\n"
    }
   }
  },
  {
   "cell_type": "code",
   "execution_count": 97,
   "metadata": {
    "collapsed": true,
    "pycharm": {
     "is_executing": false
    }
   },
   "outputs": [
    {
     "name": "stdout",
     "text": [
      "pytorch version: 1.5.0 \ntorchvision version:  0.6.0.dev20200319 \nnumpy version: 1.18.2 \nmatplotlib version:  3.2.1\n"
     ],
     "output_type": "stream"
    }
   ],
   "source": [
    "import torch\n",
    "import torch.nn as nn\n",
    "from torch.utils.data import DataLoader\n",
    "import torchvision\n",
    "from torchvision import transforms,datasets\n",
    "\n",
    "import matplotlib\n",
    "import matplotlib.pyplot as plt\n",
    "import numpy as np\n",
    "\n",
    "print('pytorch version:',torch.__version__,\n",
    "      '\\ntorchvision version: ',torchvision.__version__,\n",
    "      '\\nnumpy version:' ,np.__version__,\n",
    "      '\\nmatplotlib version: ',matplotlib.__version__)"
   ]
  },
  {
   "cell_type": "markdown",
   "source": [
    "### Settings"
   ],
   "metadata": {
    "collapsed": false,
    "pycharm": {
     "name": "#%% md\n"
    }
   }
  },
  {
   "cell_type": "code",
   "execution_count": 98,
   "outputs": [],
   "source": [
    "# model runs on  GPU or CPU\n",
    "device = torch.device(\"cuda:0\" if torch.cuda.is_available() else \"cpu\")\n",
    "\n",
    "# Hyperparameters\n",
    "learning_rate = 1e-3 \n",
    "num_epochs = 10\n",
    "batch_size = 64"
   ],
   "metadata": {
    "collapsed": false,
    "pycharm": {
     "name": "#%% \n",
     "is_executing": false
    }
   }
  },
  {
   "cell_type": "markdown",
   "source": [
    "### Dataset: MNIST\n"
   ],
   "metadata": {
    "collapsed": false,
    "pycharm": {
     "name": "#%% md\n"
    }
   }
  },
  {
   "cell_type": "code",
   "execution_count": 99,
   "outputs": [],
   "source": [
    "train_dataset = datasets.MNIST(root='data', \n",
    "                               train=True, \n",
    "                               transform=transforms.Compose([\n",
    "                                    transforms.ToTensor(),\n",
    "                                ]),\n",
    "                               download=True)\n",
    "\n",
    "test_dataset = datasets.MNIST(root='data', \n",
    "                              train=False, \n",
    "                              transform=transforms.Compose([\n",
    "                                    transforms.ToTensor(),\n",
    "                                ]))\n",
    "\n",
    "train_loader = DataLoader(dataset=train_dataset, \n",
    "                          batch_size=batch_size, \n",
    "                          shuffle=True)\n",
    "\n",
    "test_loader = DataLoader(dataset=test_dataset, \n",
    "                         batch_size=batch_size, \n",
    "                         shuffle=False)"
   ],
   "metadata": {
    "collapsed": false,
    "pycharm": {
     "name": "#%%\n",
     "is_executing": false
    }
   }
  },
  {
   "cell_type": "markdown",
   "source": [
    "### Define AE"
   ],
   "metadata": {
    "collapsed": false,
    "pycharm": {
     "name": "#%% md\n"
    }
   }
  },
  {
   "cell_type": "code",
   "execution_count": 100,
   "outputs": [],
   "source": [
    "class AE(nn.Module):\n",
    "\n",
    "    def __init__(self):\n",
    "        super(AE, self).__init__()\n",
    "        # [b, 784] => [b, 20]\n",
    "        self.encoder = nn.Sequential(\n",
    "            nn.Linear(784, 256),\n",
    "            nn.ReLU(),\n",
    "            nn.Linear(256, 64),\n",
    "            nn.ReLU(),\n",
    "            nn.Linear(64, 20),\n",
    "            nn.ReLU()\n",
    "        )\n",
    "        # [b, 20] => [b, 784]\n",
    "        self.decoder = nn.Sequential(\n",
    "            nn.Linear(20, 64),\n",
    "            nn.ReLU(),\n",
    "            nn.Linear(64, 256),\n",
    "            nn.ReLU(),\n",
    "            nn.Linear(256, 784),\n",
    "            nn.Sigmoid()\n",
    "        )\n",
    "\n",
    "    def forward(self, x):\n",
    "        # flatten\n",
    "        x = x.view(x.size(0), 784)\n",
    "        # encoder\n",
    "        x = self.encoder(x)\n",
    "        # decoder\n",
    "        x = self.decoder(x)\n",
    "        # reshape\n",
    "        x = x.view(x.size(0), 1, 28, 28)\n",
    "\n",
    "        return x\n",
    "    "
   ],
   "metadata": {
    "collapsed": false,
    "pycharm": {
     "name": "#%%\n",
     "is_executing": false
    }
   }
  },
  {
   "cell_type": "markdown",
   "source": [
    "### Init AE, define optimizer and loss function"
   ],
   "metadata": {
    "collapsed": false,
    "pycharm": {
     "name": "#%% md\n"
    }
   }
  },
  {
   "cell_type": "code",
   "execution_count": 101,
   "outputs": [],
   "source": [
    "model = AE()\n",
    "model = model.to(device)\n",
    "\n",
    "optimizer = torch.optim.SGD(model.parameters(), lr=learning_rate)\n",
    "criteon = nn.MSELoss().to(device)"
   ],
   "metadata": {
    "collapsed": false,
    "pycharm": {
     "name": "#%%\n",
     "is_executing": false
    }
   }
  },
  {
   "cell_type": "markdown",
   "source": [
    "### Training AE"
   ],
   "metadata": {
    "collapsed": false
   }
  },
  {
   "cell_type": "code",
   "execution_count": null,
   "outputs": [
    {
     "name": "stdout",
     "text": [
      "Train Epoch: 0 [0/60000 (0%)]\tLoss: 0.232859\n",
      "Train Epoch: 0 [6400/60000 (11%)]\tLoss: 0.232527\n",
      "Train Epoch: 0 [12800/60000 (21%)]\tLoss: 0.232240\n",
      "Train Epoch: 0 [19200/60000 (32%)]\tLoss: 0.232683\n",
      "Train Epoch: 0 [25600/60000 (43%)]\tLoss: 0.233295\n",
      "Train Epoch: 0 [32000/60000 (53%)]\tLoss: 0.231830\n",
      "Train Epoch: 0 [38400/60000 (64%)]\tLoss: 0.231300\n",
      "Train Epoch: 0 [44800/60000 (75%)]\tLoss: 0.232265\n",
      "Train Epoch: 0 [51200/60000 (85%)]\tLoss: 0.232676\n",
      "Train Epoch: 0 [57600/60000 (96%)]\tLoss: 0.231861\n",
      "Train Epoch: 1 [0/60000 (0%)]\tLoss: 0.231788\n",
      "Train Epoch: 1 [6400/60000 (11%)]\tLoss: 0.231614\n",
      "Train Epoch: 1 [12800/60000 (21%)]\tLoss: 0.232248\n",
      "Train Epoch: 1 [19200/60000 (32%)]\tLoss: 0.232123\n",
      "Train Epoch: 1 [25600/60000 (43%)]\tLoss: 0.232265\n",
      "Train Epoch: 1 [32000/60000 (53%)]\tLoss: 0.232071\n",
      "Train Epoch: 1 [38400/60000 (64%)]\tLoss: 0.231945\n",
      "Train Epoch: 1 [44800/60000 (75%)]\tLoss: 0.232282\n",
      "Train Epoch: 1 [51200/60000 (85%)]\tLoss: 0.232442\n",
      "Train Epoch: 1 [57600/60000 (96%)]\tLoss: 0.231383\n",
      "Train Epoch: 2 [0/60000 (0%)]\tLoss: 0.232177\n",
      "Train Epoch: 2 [6400/60000 (11%)]\tLoss: 0.232967\n",
      "Train Epoch: 2 [12800/60000 (21%)]\tLoss: 0.231727\n",
      "Train Epoch: 2 [19200/60000 (32%)]\tLoss: 0.231954\n",
      "Train Epoch: 2 [25600/60000 (43%)]\tLoss: 0.231373\n",
      "Train Epoch: 2 [32000/60000 (53%)]\tLoss: 0.231501\n",
      "Train Epoch: 2 [38400/60000 (64%)]\tLoss: 0.232407\n",
      "Train Epoch: 2 [44800/60000 (75%)]\tLoss: 0.231400\n",
      "Train Epoch: 2 [51200/60000 (85%)]\tLoss: 0.231384\n",
      "Train Epoch: 2 [57600/60000 (96%)]\tLoss: 0.231512\n",
      "Train Epoch: 3 [0/60000 (0%)]\tLoss: 0.231871\n",
      "Train Epoch: 3 [6400/60000 (11%)]\tLoss: 0.231881\n",
      "Train Epoch: 3 [12800/60000 (21%)]\tLoss: 0.231891\n",
      "Train Epoch: 3 [19200/60000 (32%)]\tLoss: 0.232630\n",
      "Train Epoch: 3 [25600/60000 (43%)]\tLoss: 0.232532\n",
      "Train Epoch: 3 [32000/60000 (53%)]\tLoss: 0.231650\n",
      "Train Epoch: 3 [38400/60000 (64%)]\tLoss: 0.231400\n",
      "Train Epoch: 3 [44800/60000 (75%)]\tLoss: 0.232411\n",
      "Train Epoch: 3 [51200/60000 (85%)]\tLoss: 0.232214\n",
      "Train Epoch: 3 [57600/60000 (96%)]\tLoss: 0.231858\n",
      "Train Epoch: 4 [0/60000 (0%)]\tLoss: 0.231477\n",
      "Train Epoch: 4 [6400/60000 (11%)]\tLoss: 0.231747\n",
      "Train Epoch: 4 [12800/60000 (21%)]\tLoss: 0.231685\n",
      "Train Epoch: 4 [19200/60000 (32%)]\tLoss: 0.231927\n",
      "Train Epoch: 4 [25600/60000 (43%)]\tLoss: 0.231579\n",
      "Train Epoch: 4 [32000/60000 (53%)]\tLoss: 0.231941\n",
      "Train Epoch: 4 [38400/60000 (64%)]\tLoss: 0.232166\n",
      "Train Epoch: 4 [44800/60000 (75%)]\tLoss: 0.231883\n",
      "Train Epoch: 4 [51200/60000 (85%)]\tLoss: 0.231386\n"
     ],
     "output_type": "stream"
    }
   ],
   "source": [
    "# %matplotlib inline\n",
    "\n",
    "result = []\n",
    "\n",
    "for epoch in range(num_epochs):\n",
    "\n",
    "    model.train()\n",
    "    for batch_idx, (x, _) in enumerate(train_loader):\n",
    "        x = x.to(device)\n",
    "        \n",
    "        # forward\n",
    "        x_hat = model(x) # x_hat is the image reconstructed by the model\n",
    "        loss = criteon(x_hat, x)\n",
    "\n",
    "        # backprop\n",
    "        optimizer.zero_grad()\n",
    "        loss.backward()\n",
    "        optimizer.step()\n",
    "\n",
    "        if batch_idx % 100 == 0:\n",
    "            print('Train Epoch: {} [{}/{} ({:.0f}%)]\\tLoss: {:.6f}'.format(\n",
    "                epoch, batch_idx * len(x), len(train_loader.dataset),\n",
    "                       100. * batch_idx / len(train_loader), loss.item()))\n",
    "    \n",
    "    model.eval()\n",
    "    with torch.no_grad():\n",
    "        for x, _ in test_loader:\n",
    "            x = x.to(device)\n",
    "            x_hat = model(x)\n",
    "            \n",
    "            result.append(x_hat)\n",
    "    \n",
    "# visual reconstruction image\n",
    "x_hat = result[-1].view(batch_size, 28, 28).cpu()\n",
    "plt.figure()\n",
    "for i in range(1, batch_size):\n",
    "    plt.subplot(8, int(batch_size / 8), i)\n",
    "    plt.imshow(x_hat[i-1], cmap=plt.cm.gray)\n",
    "    # plt.xticks([])\n",
    "    # plt.yticks([])\n",
    "plt.show()"
   ],
   "metadata": {
    "collapsed": false,
    "pycharm": {
     "name": "#%% Train\n",
     "is_executing": true
    }
   }
  }
 ],
 "metadata": {
  "kernelspec": {
   "display_name": "Python 3",
   "language": "python",
   "name": "python3"
  },
  "language_info": {
   "codemirror_mode": {
    "name": "ipython",
    "version": 2
   },
   "file_extension": ".py",
   "mimetype": "text/x-python",
   "name": "python",
   "nbconvert_exporter": "python",
   "pygments_lexer": "ipython2",
   "version": "2.7.6"
  },
  "pycharm": {
   "stem_cell": {
    "cell_type": "raw",
    "source": [],
    "metadata": {
     "collapsed": false
    }
   }
  }
 },
 "nbformat": 4,
 "nbformat_minor": 0
}
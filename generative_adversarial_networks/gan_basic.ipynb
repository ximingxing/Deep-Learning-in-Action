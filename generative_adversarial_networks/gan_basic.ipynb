{
 "cells": [
  {
   "cell_type": "markdown",
   "metadata": {
    "collapsed": true,
    "pycharm": {
     "name": "#%% md\n"
    }
   },
   "source": [
    "Author: Xi Ming.\n",
    "\n",
    "## Build a GAN from Scratch based on PyTorch.\n",
    "\n",
    "**Generative Adversarial Networks** (GANs) are deep neural network architectures comprised of two different networks, contesting with each other.\n",
    "\n",
    "In 2014, **Ian Goodfellow** and his colleagues at University of Montreal introduced GANs in their research article\n",
    "\n",
    "- Generative Adversaral networks is the most interesting idea in the last ten years in machine learning\n",
    "- Yann LeCun, Director, Facebook AI\n",
    "\n",
    "These generative networks have an immense potential, as they can learn to mimic any distribution of a given dataset.\n",
    "GANs are creative \"robot artists\" which are capable to imagine and generate things we can grasp and understand: images, music, speech, stories...\n",
    "\n",
    "We hope that GAN is a creative neural network, and to be able to do that:\n",
    "\n",
    "- GAN can generate different images.\n",
    "- The generated image looks like a sample of the training set instead of a smooth average of the training set.\n",
    "\n",
    "Both of these challenges are significant for generating realistic, usable images.\n",
    "\n",
    "<div align=\"center\">\n",
    "    <img style=\"border-radius: 0.3125em; box-shadow: 0 2px 4px 0 rgba(34,36,38,.12),0 2px 10px 0 rgba(34,36,38,.08);\"\n",
    "    height=\"200\"\n",
    "    src=\"https://github.com/ximingxing/Images/raw/master/dlic/GANs/GANs_mnist_basic.png\">\n",
    "    <br>\n",
    "    <div style=\"border-bottom: 1px solid #d9d9d9;display:inline-block;color: #999;padding: 2px;\n",
    "    font-style: oblique; font-family: 'Times New Roman'\">\n",
    "    Figure: GANs‘ architecture in terms of image generation.</div>\n",
    "</div>\n",
    "\n",
    "Let us now explore GANs‘ architecture in terms of image generation.\n",
    "In this case, the Generator is used to generate real-looking images and the Discriminator‘s job is to identify if the image is fake or not.\n",
    "In turn, these two networks, pitted against each other, are in a constant battle as one (Generator) is trying to fool the other (Discriminator)."
   ]
  },
  {
   "cell_type": "markdown",
   "source": [
    "### Import Packages"
   ],
   "metadata": {
    "collapsed": false,
    "pycharm": {
     "name": "#%% md\n"
    }
   }
  },
  {
   "cell_type": "code",
   "execution_count": 1,
   "outputs": [
    {
     "name": "stdout",
     "output_type": "stream",
     "text": [
      "pytorch version: 1.7.1+cu101 \n",
      "matplotlib version: 3.2.1 \n",
      "numpy version: 1.18.2\n"
     ]
    }
   ],
   "source": [
    "import torch\n",
    "import torch.nn as nn\n",
    "from torchvision import datasets,transforms\n",
    "from torch.utils.data import DataLoader\n",
    "\n",
    "import numpy as np\n",
    "import matplotlib\n",
    "import matplotlib.pyplot as plt\n",
    "import pandas\n",
    "\n",
    "print('pytorch version:',torch.__version__,\n",
    "      '\\nmatplotlib version:' ,matplotlib.__version__,\n",
    "      '\\nnumpy version:' ,np.__version__)"
   ],
   "metadata": {
    "collapsed": false,
    "pycharm": {
     "name": "#%%\n"
    }
   }
  },
  {
   "cell_type": "markdown",
   "source": [
    "### Settings\n",
    "We define some hyperparameters here."
   ],
   "metadata": {
    "collapsed": false,
    "pycharm": {
     "name": "#%% md\n"
    }
   }
  },
  {
   "cell_type": "code",
   "execution_count": 2,
   "outputs": [],
   "source": [
    "# model runs on  GPU or CPU\n",
    "device = torch.device(\"cuda:0\" if torch.cuda.is_available() else \"cpu\")\n",
    "\n",
    "# Hyperparameters\n",
    "learning_rate = 1e-2\n",
    "momentum = 0.9\n",
    "num_epochs = 10\n",
    "batch_size = 128\n",
    "\n",
    "# Architecture\n",
    "num_features = 784\n",
    "num_hidden = 200\n",
    "num_classes = 10"
   ],
   "metadata": {
    "collapsed": false,
    "pycharm": {
     "name": "#%%\n"
    }
   }
  },
  {
   "cell_type": "markdown",
   "source": [
    "### Dataset: MNIST"
   ],
   "metadata": {
    "collapsed": false
   }
  },
  {
   "cell_type": "code",
   "execution_count": 3,
   "outputs": [
    {
     "name": "stdout",
     "output_type": "stream",
     "text": [
      "Image batch dimensions: torch.Size([128, 1, 28, 28])\n",
      "Image label dimensions: torch.Size([128])\n",
      "\n",
      "Show images: \n"
     ]
    },
    {
     "data": {
      "text/plain": "<Figure size 432x288 with 10 Axes>",
      "image/png": "[encoded data removed]"
     },
     "metadata": {
      "needs_background": "light"
     },
     "output_type": "display_data"
    }
   ],
   "source": [
    "train_dataset = datasets.MNIST(root='data',\n",
    "                               train=True, download=True,\n",
    "                               transform=transforms.Compose([\n",
    "                                    transforms.ToTensor(),\n",
    "                                    transforms.Normalize((0.1307,), (0.3081,))]))\n",
    "\n",
    "test_dataset = datasets.MNIST(root='data',\n",
    "                              train=False, download=True,\n",
    "                              transform=transforms.Compose([\n",
    "                                    transforms.ToTensor(),\n",
    "                                    transforms.Normalize((0.1307,), (0.3081,))]))\n",
    "\n",
    "train_loader = DataLoader(dataset=train_dataset, batch_size=batch_size,\n",
    "                          shuffle=True, drop_last=True)\n",
    "\n",
    "test_loader = DataLoader(dataset=test_dataset, batch_size=batch_size,\n",
    "                         shuffle=False, drop_last=True)\n",
    "\n",
    "# Checking the dataset\n",
    "for images, labels in train_loader:\n",
    "    print('Image batch dimensions:', images.shape)\n",
    "    print('Image label dimensions:', labels.shape)\n",
    "    # plot img.\n",
    "    print(\"\\nShow images: \")\n",
    "    plt.figure()\n",
    "    for i in range(1, 11):\n",
    "        img = images[i].numpy()\n",
    "        img = img.reshape(28,28)\n",
    "        plt.subplot(2,5,i)\n",
    "        plt.title(\"label = \" + str(labels[i].numpy()))\n",
    "        plt.imshow(img, interpolation='none', cmap='Blues')\n",
    "    plt.show()\n",
    "    break"
   ],
   "metadata": {
    "collapsed": false,
    "pycharm": {
     "name": "#%%\n"
    }
   }
  },
  {
   "cell_type": "markdown",
   "source": [
    "### Discriminator Network"
   ],
   "metadata": {
    "collapsed": false,
    "pycharm": {
     "name": "#%% md\n"
    }
   }
  },
  {
   "cell_type": "code",
   "execution_count": 4,
   "outputs": [],
   "source": [
    "class Discriminator(nn.Module):\n",
    "\n",
    "    def __init__(self):\n",
    "        # initialise parent pytorch class\n",
    "        super().__init__()\n",
    "\n",
    "        # define neural network layers\n",
    "        self.model = nn.Sequential(\n",
    "            nn.Linear(784, 200),\n",
    "            nn.LeakyReLU(0.02, inplace=True),\n",
    "            nn.LayerNorm(200),\n",
    "            nn.Linear(200, 1),\n",
    "            nn.Sigmoid()\n",
    "        )\n",
    "\n",
    "        # create loss function\n",
    "        self.loss_function = nn.BCELoss()\n",
    "\n",
    "        # create optimiser, simple stochastic gradient descent\n",
    "        self.optimiser = torch.optim.Adam(self.parameters(), lr=0.0001)\n",
    "\n",
    "        # counter and accumulator for progress\n",
    "        self.counter = 0\n",
    "        self.progress = []\n",
    "\n",
    "    def forward(self, inputs):\n",
    "        return self.model(inputs)\n",
    "\n",
    "    def train(self, inputs, targets):\n",
    "        # move data to device('cpu' or 'gpu') and reshape images\n",
    "        inputs, targets = inputs.to(device), targets.to(device)\n",
    "\n",
    "        # calculate the output of the network\n",
    "        outputs = self.forward(inputs)\n",
    "\n",
    "        # calculate loss\n",
    "        loss = self.loss_function(outputs, targets)\n",
    "\n",
    "        # increase counter and accumulate error every 10\n",
    "        self.counter += 1\n",
    "        if self.counter % 10 == 0:\n",
    "            self.progress.append(loss.data.item())\n",
    "        if self.counter % 10000 == 0:\n",
    "            print(\"Discriminator loss: \", loss.data.item())\n",
    "\n",
    "        # zero gradients, perform a backward pass, update weights\n",
    "        self.optimiser.zero_grad()\n",
    "        loss.backward()\n",
    "        self.optimiser.step()\n",
    "\n",
    "    def plot_progress(self):\n",
    "        df = pandas.DataFrame(self.progress, columns=['loss'])\n",
    "        df.plot(ylim=(0), figsize=(16,8), alpha=0.1, marker='.', grid=True, yticks=(0, 0.25, 0.5, 1.0, 5.0))"
   ],
   "metadata": {
    "collapsed": false,
    "pycharm": {
     "name": "#%%\n"
    }
   }
  },
  {
   "cell_type": "markdown",
   "source": [
    "### Test Discriminator"
   ],
   "metadata": {
    "collapsed": false,
    "pycharm": {
     "name": "#%% md\n"
    }
   }
  },
  {
   "cell_type": "code",
   "execution_count": 5,
   "outputs": [
    {
     "name": "stdout",
     "output_type": "stream",
     "text": [
      "counter =  10000\n",
      "counter =  20000\n",
      "counter =  30000\n",
      "counter =  40000\n",
      "counter =  50000\n",
      "counter =  60000\n",
      "counter =  70000\n",
      "counter =  80000\n",
      "counter =  90000\n",
      "counter =  100000\n",
      "counter =  110000\n",
      "CPU times: user 5min 5s, sys: 5.6 s, total: 5min 11s\n",
      "Wall time: 5min 12s\n"
     ]
    }
   ],
   "source": [
    "%%time\n",
    "# functions to generate random data\n",
    "def generate_random_image(size):\n",
    "    random_data = torch.rand(size)\n",
    "    return random_data\n",
    "\n",
    "# test discriminator can separate real data from random noise\n",
    "D = Discriminator().to(device)\n",
    "\n",
    "for images, labels in train_loader:\n",
    "    # images: [batch_size, channel, width, height]\n",
    "    for image_data_tensor in images:\n",
    "        # image_data_tensor: [channel, width, height]\n",
    "        image_data_tensor = image_data_tensor.view(28*28)\n",
    "        # real data\n",
    "        D.train(image_data_tensor, torch.FloatTensor([1.0]))\n",
    "        # fake data\n",
    "        D.train(generate_random_image(784), torch.FloatTensor([0.0]))"
   ],
   "metadata": {
    "collapsed": false,
    "pycharm": {
     "name": "#%%\n"
    }
   }
  },
  {
   "cell_type": "code",
   "execution_count": 6,
   "outputs": [
    {
     "data": {
      "text/plain": "<Figure size 1152x576 with 1 Axes>",
      "image/png": "[encoded data removed]"
     },
     "metadata": {
      "needs_background": "light"
     },
     "output_type": "display_data"
    }
   ],
   "source": [
    "# plot discriminator loss\n",
    "D.plot_progress()"
   ],
   "metadata": {
    "collapsed": false,
    "pycharm": {
     "name": "#%%\n"
    }
   }
  },
  {
   "cell_type": "markdown",
   "source": [
    "### Generator Network"
   ],
   "metadata": {
    "collapsed": false,
    "pycharm": {
     "name": "#%% md\n"
    }
   }
  },
  {
   "cell_type": "code",
   "execution_count": 28,
   "outputs": [],
   "source": [
    "# generator class\n",
    "class Generator(nn.Module):\n",
    "\n",
    "    def __init__(self):\n",
    "        # initialise parent pytorch class\n",
    "        super().__init__()\n",
    "\n",
    "        # define neural network layers\n",
    "        self.model = nn.Sequential(\n",
    "            nn.Linear(100, 200),\n",
    "            nn.LeakyReLU(0.02, inplace=True),\n",
    "            nn.LayerNorm(200),\n",
    "            nn.Linear(200, 784),\n",
    "            nn.Sigmoid()\n",
    "        )\n",
    "\n",
    "        # create optimiser, simple stochastic gradient descent\n",
    "        self.optimiser = torch.optim.Adam(self.parameters(), lr=0.0001)\n",
    "\n",
    "        # counter and accumulator for progress\n",
    "        self.counter = 0\n",
    "        self.progress = []\n",
    "\n",
    "    def forward(self, inputs):\n",
    "        # simply run model\n",
    "        return self.model(inputs)\n",
    "\n",
    "    def train(self, D, inputs, targets):\n",
    "        # move data to device('cpu' or 'gpu') and reshape images\n",
    "        inputs, targets = inputs.to(device), targets.to(device)\n",
    "        D = D.to(device)\n",
    "\n",
    "        # calculate the output of the network\n",
    "        g_output = self.forward(inputs)\n",
    "\n",
    "        # pass onto Discriminator\n",
    "        d_output = D.forward(g_output)\n",
    "\n",
    "        # calculate error\n",
    "        loss = D.loss_function(d_output, targets)\n",
    "\n",
    "        # increase counter and accumulate error every 10\n",
    "        self.counter += 1\n",
    "        if self.counter % 10 == 0:\n",
    "            self.progress.append(loss.data.item())\n",
    "\n",
    "        # zero gradients, perform a backward pass, update weights\n",
    "        self.optimiser.zero_grad()\n",
    "        loss.backward()\n",
    "        self.optimiser.step()\n",
    "\n",
    "    def plot_progress(self):\n",
    "        df = pandas.DataFrame(self.progress, columns=['loss'])\n",
    "        df.plot(ylim=(0), figsize=(16,8), alpha=0.1, marker='.', grid=True, yticks=(0, 0.25, 0.5, 1.0, 5.0))"
   ],
   "metadata": {
    "collapsed": false,
    "pycharm": {
     "name": "#%%\n"
    }
   }
  },
  {
   "cell_type": "markdown",
   "source": [
    "### Test Generator Output"
   ],
   "metadata": {
    "collapsed": false,
    "pycharm": {
     "name": "#%% md\n"
    }
   }
  },
  {
   "cell_type": "code",
   "execution_count": 25,
   "outputs": [
    {
     "name": "stdout",
     "output_type": "stream",
     "text": [
      "CPU times: user 23.2 ms, sys: 4.11 ms, total: 27.3 ms\n",
      "Wall time: 26.1 ms\n"
     ]
    },
    {
     "data": {
      "text/plain": "<matplotlib.image.AxesImage at 0x7fda720b0cc0>"
     },
     "execution_count": 25,
     "metadata": {},
     "output_type": "execute_result"
    },
    {
     "data": {
      "text/plain": "<Figure size 432x288 with 1 Axes>",
      "image/png": "[encoded data removed]"
     },
     "metadata": {
      "needs_background": "light"
     },
     "output_type": "display_data"
    }
   ],
   "source": [
    "%%time\n",
    "# functions to generate random data\n",
    "def generate_random_seed(size):\n",
    "    random_data = torch.randn(size, device=device)\n",
    "    return random_data\n",
    "\n",
    "# check the generator output is of the right type and shape\n",
    "G = Generator().to(device)\n",
    "output = G.forward(generate_random_seed(100))\n",
    "# cuda convert to cpu, then to numpy.\n",
    "img = output.detach().cpu().numpy().reshape(28,28)\n",
    "plt.imshow(img, interpolation='none', cmap='Blues')"
   ],
   "metadata": {
    "collapsed": false,
    "pycharm": {
     "name": "#%%\n"
    }
   }
  },
  {
   "cell_type": "markdown",
   "source": [
    "### Train GAN"
   ],
   "metadata": {
    "collapsed": false,
    "pycharm": {
     "name": "#%% md\n"
    }
   }
  },
  {
   "cell_type": "code",
   "execution_count": 29,
   "outputs": [
    {
     "name": "stdout",
     "output_type": "stream",
     "text": [
      "epoch =  1\n",
      "counter =  10000\n",
      "counter =  20000\n",
      "counter =  30000\n",
      "counter =  40000\n",
      "counter =  50000\n",
      "counter =  60000\n",
      "counter =  70000\n",
      "counter =  80000\n",
      "counter =  90000\n",
      "counter =  100000\n",
      "counter =  110000\n",
      "epoch =  2\n",
      "counter =  120000\n",
      "counter =  130000\n",
      "counter =  140000\n",
      "counter =  150000\n",
      "counter =  160000\n",
      "counter =  170000\n",
      "counter =  180000\n",
      "counter =  190000\n",
      "counter =  200000\n",
      "counter =  210000\n",
      "counter =  220000\n",
      "counter =  230000\n",
      "epoch =  3\n",
      "counter =  240000\n",
      "counter =  250000\n",
      "counter =  260000\n",
      "counter =  270000\n",
      "counter =  280000\n",
      "counter =  290000\n",
      "counter =  300000\n",
      "counter =  310000\n",
      "counter =  320000\n",
      "counter =  330000\n",
      "counter =  340000\n",
      "counter =  350000\n",
      "epoch =  4\n",
      "counter =  360000\n",
      "counter =  370000\n",
      "counter =  380000\n",
      "counter =  390000\n",
      "counter =  400000\n",
      "counter =  410000\n",
      "counter =  420000\n",
      "counter =  430000\n",
      "counter =  440000\n",
      "counter =  450000\n",
      "counter =  460000\n",
      "counter =  470000\n",
      "CPU times: user 35min 54s, sys: 23.3 s, total: 36min 17s\n",
      "Wall time: 36min 24s\n"
     ]
    }
   ],
   "source": [
    "%%time\n",
    "\n",
    "# create Discriminator and Generator\n",
    "D = Discriminator().to(device)\n",
    "G = Generator().to(device)\n",
    "\n",
    "epochs = 4\n",
    "\n",
    "for epoch in range(epochs):\n",
    "  print (\"epoch = \", epoch + 1)\n",
    "\n",
    "  # train Discriminator and Generator\n",
    "  for images, labels in train_loader:\n",
    "    # images: [batch_size, channel, width, height]\n",
    "    for image_data_tensor in images:\n",
    "        # image_data_tensor: [channel, width, height]\n",
    "        image_data_tensor = image_data_tensor.view(28*28)\n",
    "        # train discriminator on true\n",
    "        D.train(image_data_tensor, torch.FloatTensor([1.0]))\n",
    "\n",
    "        # train discriminator on false\n",
    "        # use detach() so gradients in G are not calculated\n",
    "        D.train(G.forward(generate_random_seed(100)).detach(), torch.FloatTensor([0.0]))\n",
    "\n",
    "        # train generator\n",
    "        G.train(D, generate_random_seed(100), torch.FloatTensor([1.0]))"
   ],
   "metadata": {
    "collapsed": false,
    "pycharm": {
     "name": "#%%\n"
    }
   }
  },
  {
   "cell_type": "code",
   "execution_count": 30,
   "outputs": [
    {
     "data": {
      "text/plain": "<Figure size 1152x576 with 1 Axes>",
      "image/png": "[encoded data removed]"
     },
     "metadata": {
      "needs_background": "light"
     },
     "output_type": "display_data"
    }
   ],
   "source": [
    "# plot discriminator error\n",
    "D.plot_progress()"
   ],
   "metadata": {
    "collapsed": false,
    "pycharm": {
     "name": "#%%\n"
    }
   }
  },
  {
   "cell_type": "code",
   "execution_count": 31,
   "outputs": [
    {
     "data": {
      "text/plain": "<Figure size 1152x576 with 1 Axes>",
      "image/png": "[encoded data removed]"
     },
     "metadata": {
      "needs_background": "light"
     },
     "output_type": "display_data"
    }
   ],
   "source": [
    "# plot generator error\n",
    "G.plot_progress()"
   ],
   "metadata": {
    "collapsed": false,
    "pycharm": {
     "name": "#%%\n"
    }
   }
  },
  {
   "cell_type": "markdown",
   "source": [
    "### Run Generator"
   ],
   "metadata": {
    "collapsed": false,
    "pycharm": {
     "name": "#%% md\n"
    }
   }
  },
  {
   "cell_type": "code",
   "execution_count": 34,
   "outputs": [
    {
     "data": {
      "text/plain": "<Figure size 1152x576 with 6 Axes>",
      "image/png": "[encoded data removed]"
     },
     "metadata": {
      "needs_background": "light"
     },
     "output_type": "display_data"
    }
   ],
   "source": [
    "# plot several outputs from the trained generator\n",
    "\n",
    "# plot a 3 column, 2 row array of generated images\n",
    "f, axarr = plt.subplots(2,3, figsize=(16,8))\n",
    "for i in range(2):\n",
    "    for j in range(3):\n",
    "        output = G.forward(generate_random_seed(100))\n",
    "        img = output.detach().cpu().numpy().reshape(28,28)\n",
    "        axarr[i,j].imshow(img, interpolation='none', cmap='Blues')"
   ],
   "metadata": {
    "collapsed": false,
    "pycharm": {
     "name": "#%%\n"
    }
   }
  }
 ],
 "metadata": {
  "kernelspec": {
   "display_name": "Python 3",
   "language": "python",
   "name": "python3"
  },
  "language_info": {
   "codemirror_mode": {
    "name": "ipython",
    "version": 2
   },
   "file_extension": ".py",
   "mimetype": "text/x-python",
   "name": "python",
   "nbconvert_exporter": "python",
   "pygments_lexer": "ipython2",
   "version": "2.7.6"
  }
 },
 "nbformat": 4,
 "nbformat_minor": 0
}